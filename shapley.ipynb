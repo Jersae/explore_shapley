{
  "nbformat": 4,
  "nbformat_minor": 0,
  "metadata": {
    "colab": {
      "name": "shapley.ipynb",
      "provenance": [],
      "collapsed_sections": [],
      "authorship_tag": "ABX9TyProuo0lL7CYo7GJWCkBUiA",
      "include_colab_link": true
    },
    "kernelspec": {
      "name": "python3",
      "display_name": "Python 3"
    }
  },
  "cells": [
    {
      "cell_type": "markdown",
      "metadata": {
        "id": "view-in-github",
        "colab_type": "text"
      },
      "source": [
        "<a href=\"https://colab.research.google.com/github/Jersae/explore_shapley/blob/master/shapley.ipynb\" target=\"_parent\"><img src=\"https://colab.research.google.com/assets/colab-badge.svg\" alt=\"Open In Colab\"/></a>"
      ]
    },
    {
      "cell_type": "code",
      "metadata": {
        "id": "GDATdQIj_3vw",
        "colab_type": "code",
        "colab": {}
      },
      "source": [
        "#Blank Intentionally because nobody codes on the first block! Ever! :)\n",
        "\n",
        "#Author: Phua Chee Wee\n",
        "\n",
        "#GitLink: https://github.com/Jersae"
      ],
      "execution_count": 0,
      "outputs": []
    },
    {
      "cell_type": "markdown",
      "metadata": {
        "id": "RqgviYFfC8wh",
        "colab_type": "text"
      },
      "source": [
        "# Shapley Implementation Trial \n",
        "\n",
        "Gonna feed in a pandas table and try to extract shapley value from it and try to make sense of it.\n"
      ]
    },
    {
      "cell_type": "code",
      "metadata": {
        "id": "cw00zw5_Yeyz",
        "colab_type": "code",
        "outputId": "65404fc9-f7fd-4036-cc88-ef8c78807810",
        "colab": {
          "base_uri": "https://localhost:8080/",
          "height": 185
        }
      },
      "source": [
        "!pip install shap"
      ],
      "execution_count": 54,
      "outputs": [
        {
          "output_type": "stream",
          "text": [
            "Requirement already satisfied: shap in /usr/local/lib/python3.6/dist-packages (0.35.0)\n",
            "Requirement already satisfied: scipy in /usr/local/lib/python3.6/dist-packages (from shap) (1.4.1)\n",
            "Requirement already satisfied: scikit-learn in /usr/local/lib/python3.6/dist-packages (from shap) (0.22.2.post1)\n",
            "Requirement already satisfied: pandas in /usr/local/lib/python3.6/dist-packages (from shap) (1.0.3)\n",
            "Requirement already satisfied: tqdm>4.25.0 in /usr/local/lib/python3.6/dist-packages (from shap) (4.41.1)\n",
            "Requirement already satisfied: numpy in /usr/local/lib/python3.6/dist-packages (from shap) (1.18.4)\n",
            "Requirement already satisfied: joblib>=0.11 in /usr/local/lib/python3.6/dist-packages (from scikit-learn->shap) (0.15.0)\n",
            "Requirement already satisfied: pytz>=2017.2 in /usr/local/lib/python3.6/dist-packages (from pandas->shap) (2018.9)\n",
            "Requirement already satisfied: python-dateutil>=2.6.1 in /usr/local/lib/python3.6/dist-packages (from pandas->shap) (2.8.1)\n",
            "Requirement already satisfied: six>=1.5 in /usr/local/lib/python3.6/dist-packages (from python-dateutil>=2.6.1->pandas->shap) (1.12.0)\n"
          ],
          "name": "stdout"
        }
      ]
    },
    {
      "cell_type": "code",
      "metadata": {
        "id": "dUdwfBk5DTUz",
        "colab_type": "code",
        "colab": {}
      },
      "source": [
        "import pandas as pd\n",
        "import shap  # package used to calculate Shap values\n",
        "from sklearn.ensemble import RandomForestClassifier #random forest\n"
      ],
      "execution_count": 0,
      "outputs": []
    },
    {
      "cell_type": "code",
      "metadata": {
        "id": "RXf0egkQEzx4",
        "colab_type": "code",
        "colab": {}
      },
      "source": [
        "# 4 Signals (Signal 1 being strongest to Signal 4), varying thresholds for each signal\n",
        "# Assune an id will be flagged as True for the following conditions:\n",
        "# Trigger Condition: Flag is 1 if (S1 + S2) | (S1 + S3 + S4) | (S2 + S3 + S4) | (S1 + S2  S3 + S4) | (S1 + S3|S4) | (S2 + S3|S4), else 0\n",
        "# These conditions will not be explicitly stated out in the code but the data will generally follow this pattern\n",
        "# Threshold Values of Signals are {\"S1\": 0.5, \"S2\": 0.7, \"S3\": 0.9, \"S4\": 0.95}\n",
        "\n",
        "threshold = {\"S1\": 0.5, \"S2\": 0.7, \"S3\": 0.9, \"S4\": 0.95}\n",
        "\n",
        "import random\n",
        "num_traindata = 30\n",
        "train_data = []\n",
        "\n",
        "def generate_data(i, trigger_ratio = 0.5):\n",
        "  \"\"\"\n",
        "  trigger_Ratio: float 0.5 means equal chnace of data generated having flag 1 and flag 0. higher than 0.5 means more chance of flag 1\n",
        "  \"\"\"\n",
        "  chance = random.uniform(0, 1)\n",
        "\n",
        "  if chance < 0.5:\n",
        "    # Flag 1 data generated\n",
        "    #Which of (S1 + S2) | (S1 + S3 + S4) | (S2 + S3 + S4) | (S1 + S2  S3 + S4) | (S1 + S3|S4) | (S2 + S3|S4) to be generated\n",
        "    case_chance = random.uniform(0, 1)\n",
        "\n",
        "    if case_chance > 0.875:\n",
        "      return (\"id{}\".format(i), random.uniform(threshold[\"S1\"], 1), random.uniform(threshold[\"S2\"], 1), random.uniform(0, threshold[\"S3\"]), random.uniform(0, threshold[\"S4\"]), 1)\n",
        "\n",
        "    elif case_chance > 0.75:\n",
        "      return (\"id{}\".format(i), random.uniform(threshold[\"S1\"], 1), random.uniform(0, threshold[\"S2\"]), random.uniform(threshold[\"S3\"], 1), random.uniform(threshold[\"S4\"], 1), 1)\n",
        "\n",
        "    elif case_chance > 0.625:\n",
        "      return (\"id{}\".format(i), random.uniform(0, threshold[\"S1\"]), random.uniform(threshold[\"S2\"], 1), random.uniform(threshold[\"S3\"], 1), random.uniform(threshold[\"S4\"], 1), 1)\n",
        "\n",
        "    elif case_chance > 0.5:\n",
        "      return (\"id{}\".format(i), random.uniform(threshold[\"S1\"], 1), random.uniform(threshold[\"S2\"], 1), random.uniform(threshold[\"S3\"], 1), random.uniform(threshold[\"S4\"], 1), 1)\n",
        "\n",
        "    elif case_chance > 0.375:\n",
        "      return (\"id{}\".format(i), random.uniform(threshold[\"S1\"], 1), random.uniform(0, threshold[\"S2\"]), random.uniform(threshold[\"S3\"], 1), random.uniform(0, threshold[\"S4\"]), 1)\n",
        "\n",
        "    elif case_chance > 0.25:\n",
        "      return (\"id{}\".format(i), random.uniform(threshold[\"S1\"], 1), random.uniform(0, threshold[\"S2\"]), random.uniform(0, threshold[\"S3\"]), random.uniform(threshold[\"S4\"], 1), 1)\n",
        "\n",
        "    elif case_chance > 0.125:\n",
        "      return (\"id{}\".format(i), random.uniform(0, threshold[\"S1\"]), random.uniform(threshold[\"S2\"], 1), random.uniform(threshold[\"S3\"], 1), random.uniform(0, threshold[\"S4\"]), 1)\n",
        "\n",
        "    else:\n",
        "      return (\"id{}\".format(i), random.uniform(0, threshold[\"S1\"]), random.uniform(threshold[\"S2\"], 1), random.uniform(0, threshold[\"S3\"]), random.uniform(threshold[\"S4\"], 1), 1)\n",
        "\n",
        "  else:\n",
        "    # Flag 0 data generated\n",
        "    # case conditions: (S3 &| S4) | {S1|S2} \n",
        "\n",
        "    case_chance = random.uniform(0, 1)\n",
        "    if case_chance > 0.75:\n",
        "      return (\"id{}\".format(i), random.uniform(0, threshold[\"S1\"]), random.uniform(0, threshold[\"S2\"]), random.uniform(threshold[\"S3\"], 1), random.uniform(0, threshold[\"S4\"]), 0)\n",
        "\n",
        "    elif case_chance > 0.5:\n",
        "      return (\"id{}\".format(i), random.uniform(0, threshold[\"S1\"]), random.uniform(0, threshold[\"S2\"]), random.uniform(0, threshold[\"S3\"]), random.uniform(threshold[\"S4\"], 1), 0)\n",
        "    \n",
        "    elif case_chance > 0.25:\n",
        "      return (\"id{}\".format(i), random.uniform(0, threshold[\"S1\"]), random.uniform(threshold[\"S2\"], 1), random.uniform(0, threshold[\"S3\"]), random.uniform(0, threshold[\"S4\"]), 0)\n",
        "\n",
        "    else:\n",
        "      return (\"id{}\".format(i), random.uniform(threshold[\"S1\"], 1), random.uniform(0, threshold[\"S2\"]), random.uniform(0, threshold[\"S3\"]), random.uniform(0, threshold[\"S4\"]), 0)\n",
        "\n",
        "for i in range(0, num_traindata):\n",
        "  train_data.append(generate_data(i))\n",
        "train_data\n",
        "\n",
        "def train_test_data(num, train_ratio = 0.5):\n",
        "  train_data = []\n",
        "  test_data = []\n",
        "\n",
        "  for i in range(0, int(num*train_ratio)):\n",
        "    train_data.append(generate_data(i))\n",
        "\n",
        "  for i in range(int(num*train_ratio), num):\n",
        "    test_data.append(generate_data(i))\n",
        "\n",
        "  return train_data, test_data"
      ],
      "execution_count": 0,
      "outputs": []
    },
    {
      "cell_type": "code",
      "metadata": {
        "id": "U23ggJL1CzLc",
        "colab_type": "code",
        "outputId": "f58644cd-2401-4928-edcd-d4930510118f",
        "colab": {
          "base_uri": "https://localhost:8080/",
          "height": 54
        }
      },
      "source": [
        "num_samples = 10000\n",
        "train_data, test_data = train_test_data(num_samples, train_ratio= 0.8)\n",
        "\n",
        "column_names = [\"id\", \"signal1\", \"signal2\", \"signal3\", \"signal4\", \"flag\"]\n",
        "\n",
        "df = pd.DataFrame(train_data, columns = column_names)\n",
        "\n",
        "test_df = pd.DataFrame(test_data, columns = column_names)\n",
        "\n",
        "features = [\"signal1\", \"signal2\", \"signal3\", \"signal4\"]\n",
        "\n",
        "\"\"\"\n",
        "#Assuming some labels are labelled incorrectly. (Imperfect environment) 10. Implement to test if neccessary\n",
        "dfupdate = df.sample(10)\n",
        "dfupdate[\"flag\"] = dfupdate[\"flag\"].apply(lambda x: 1 if x == 0 else 0)\n",
        "df.update(dfupdate)\n",
        "\"\"\""
      ],
      "execution_count": 130,
      "outputs": [
        {
          "output_type": "execute_result",
          "data": {
            "text/plain": [
              "'\\n#Assuming some labels are labelled incorrectly. (Imperfect environment) 10. Implement to test if neccessary\\ndfupdate = df.sample(10)\\ndfupdate[\"flag\"] = dfupdate[\"flag\"].apply(lambda x: 1 if x == 0 else 0)\\ndf.update(dfupdate)\\n'"
            ]
          },
          "metadata": {
            "tags": []
          },
          "execution_count": 130
        }
      ]
    },
    {
      "cell_type": "code",
      "metadata": {
        "id": "LEYNKdVudAP4",
        "colab_type": "code",
        "outputId": "1b4bf761-76d3-46a2-dfbf-676073abe890",
        "colab": {
          "base_uri": "https://localhost:8080/",
          "height": 151
        }
      },
      "source": [
        "clf = RandomForestClassifier(n_jobs=-1, random_state=0)\n",
        "clf.fit(df[features], df[\"flag\"])"
      ],
      "execution_count": 132,
      "outputs": [
        {
          "output_type": "execute_result",
          "data": {
            "text/plain": [
              "RandomForestClassifier(bootstrap=True, ccp_alpha=0.0, class_weight=None,\n",
              "                       criterion='gini', max_depth=None, max_features='auto',\n",
              "                       max_leaf_nodes=None, max_samples=None,\n",
              "                       min_impurity_decrease=0.0, min_impurity_split=None,\n",
              "                       min_samples_leaf=1, min_samples_split=2,\n",
              "                       min_weight_fraction_leaf=0.0, n_estimators=100,\n",
              "                       n_jobs=-1, oob_score=False, random_state=0, verbose=0,\n",
              "                       warm_start=False)"
            ]
          },
          "metadata": {
            "tags": []
          },
          "execution_count": 132
        }
      ]
    },
    {
      "cell_type": "code",
      "metadata": {
        "id": "w7Ca7Hzxddb5",
        "colab_type": "code",
        "outputId": "ebce61b9-1739-46d2-b5cb-7c89e31ab7f3",
        "colab": {
          "base_uri": "https://localhost:8080/",
          "height": 34
        }
      },
      "source": [
        "clf.predict(test_df[features])"
      ],
      "execution_count": 131,
      "outputs": [
        {
          "output_type": "execute_result",
          "data": {
            "text/plain": [
              "array([1., 1., 0., ..., 1., 1., 0.])"
            ]
          },
          "metadata": {
            "tags": []
          },
          "execution_count": 131
        }
      ]
    },
    {
      "cell_type": "code",
      "metadata": {
        "id": "4bCr7dRpEyXc",
        "colab_type": "code",
        "outputId": "b8065e0f-4d83-4580-f9ff-6665d33a69e5",
        "colab": {
          "base_uri": "https://localhost:8080/",
          "height": 250
        }
      },
      "source": [
        "explainer = shap.TreeExplainer(clf)\n",
        "shap_values = explainer.shap_values(df[features])\n",
        "df[features].columns\n",
        "#shap.summary_plot(shap_values, features=df[features], feature_names=df[features].columns)\n",
        "shap.summary_plot(shap_values, features=df[features])"
      ],
      "execution_count": 133,
      "outputs": [
        {
          "output_type": "stream",
          "text": [
            "Setting feature_perturbation = \"tree_path_dependent\" because no background data was given.\n"
          ],
          "name": "stderr"
        },
        {
          "output_type": "display_data",
          "data": {
            "image/png": "[encoded data removed]",
            "text/plain": [
              "<Figure size 576x223.2 with 1 Axes>"
            ]
          },
          "metadata": {
            "tags": [],
            "needs_background": "light"
          }
        }
      ]
    },
    {
      "cell_type": "code",
      "metadata": {
        "id": "73CSUzTMs8Gq",
        "colab_type": "code",
        "colab": {
          "base_uri": "https://localhost:8080/",
          "height": 50
        },
        "outputId": "c2a2147a-fb10-46df-e566-093d86a71857"
      },
      "source": [
        "# Unpacking Sahpely value for each feature\n",
        "S1 = []\n",
        "S2 = []\n",
        "S3 = []\n",
        "S4 = []\n",
        "\n",
        "for i in shap_values[0]:\n",
        "  S1.append(abs(i[0]))\n",
        "  S2.append(abs(i[1]))\n",
        "  S3.append(abs(i[2]))\n",
        "  S4.append(abs(i[3]))\n",
        "\n",
        "for i in shap_values[1]:\n",
        "  S1.append(abs(i[0]))\n",
        "  S2.append(abs(i[1]))\n",
        "  S3.append(abs(i[2]))\n",
        "  S4.append(abs(i[3]))\n",
        "\n",
        "import numpy as np\n",
        "shap_S1 = np.mean(S1)\n",
        "shap_S2 = np.mean(S2)\n",
        "shap_S3 = np.mean(S3)\n",
        "shap_S4 = np.mean(S4)\n",
        "\n",
        "shap_sum = sum([shap_S1, shap_S2, shap_S3, shap_S4])\n",
        "\n",
        "print(shap_sum, shap_S1, shap_S2, shap_S3, shap_S4)\n",
        "\n",
        "print(\"S1, S2, S3, S4 scores can be combined using in the porpotion of S1: {}, S2: {}, S3: {}, S4: {}\".format((shap_S1/shap_sum), (shap_S2/shap_sum), (shap_S3/shap_sum), (shap_S4/shap_sum)))\n"
      ],
      "execution_count": 168,
      "outputs": [
        {
          "output_type": "stream",
          "text": [
            "0.8527485165215125 0.24301001002687364 0.24542479595256153 0.18614809414499153 0.17816561639708578\n",
            "S1, S2, S3, S4 scores can be combined using in the porpotion of S1: 0.28497265643820463, S2: 0.2878044243966388, S3: 0.21829190029472836, S4: 0.2089310188704282\n"
          ],
          "name": "stdout"
        }
      ]
    },
    {
      "cell_type": "markdown",
      "metadata": {
        "id": "uTcevpnMr2n0",
        "colab_type": "text"
      },
      "source": [
        "As Expected, Signal 1 and 2 are identified as the main signal with higher shapley value than signal 3 and 4. \n",
        "\n",
        "Signal 1 and 2 have almost similar shapley value despite different thresholds. So does signal 3 and 4 as well.\n",
        "\n",
        "This concludes my trial on shapley value to distinguish feature importance."
      ]
    }
  ]
}